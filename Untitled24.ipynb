{
 "cells": [
  {
   "cell_type": "code",
   "execution_count": 7,
   "id": "c9d61ec3",
   "metadata": {},
   "outputs": [
    {
     "name": "stdout",
     "output_type": "stream",
     "text": [
      "34\n"
     ]
    }
   ],
   "source": [
    "def fibonacci(n):\n",
    "\n",
    "    if n ==0:\n",
    "        return 0\n",
    "    elif n == 1 or n == 2 :\n",
    "        return 1\n",
    "\n",
    "    else:\n",
    "        return fibonacci(n-1)+fibonacci(n-2)\n",
    "\n",
    "print(fibonacci(9))"
   ]
  },
  {
   "cell_type": "code",
   "execution_count": 10,
   "id": "a9546930",
   "metadata": {},
   "outputs": [
    {
     "name": "stdout",
     "output_type": "stream",
     "text": [
      "how many terms : 7\n",
      "fibonacci series is\n",
      "0\n"
     ]
    }
   ],
   "source": [
    "n = int(input(\"how many terms : \"))\n",
    "n1 , n2 = 0 , 1\n",
    "count = 0\n",
    "\n",
    "if n == 1:\n",
    "    print(\"fibonacci series upto\" , n ,\":\")\n",
    "    print(n1)\n",
    "else:\n",
    "    print(\"fibonacci series is\")\n",
    "\n",
    "    while count<n:\n",
    "        print(n1)\n",
    "        n = n1 + n2\n",
    "        n1 = n2\n",
    "        n2 = n\n",
    "        count += 1"
   ]
  },
  {
   "cell_type": "code",
   "execution_count": 43,
   "id": "d8f63771",
   "metadata": {},
   "outputs": [
    {
     "name": "stdout",
     "output_type": "stream",
     "text": [
      "enter the no.\n",
      "131\n",
      "no. is not palindrome!\n",
      "no. is not palindrome!\n",
      "no. is not palindrome!\n"
     ]
    }
   ],
   "source": [
    "n = int(input(\"enter the no.\\n\"))\n",
    "rev = 0\n",
    "while(n>0):\n",
    "    a = n %10\n",
    "    rev = rev*10+a\n",
    "    n = n//10\n",
    "\n",
    "    if(n==rev):\n",
    "        print(\"no. is palindrome!\")\n",
    "    else:\n",
    "        print(\"no. is not palindrome!\")\n",
    "        \n"
   ]
  },
  {
   "cell_type": "code",
   "execution_count": 25,
   "id": "9601acda",
   "metadata": {},
   "outputs": [
    {
     "name": "stdout",
     "output_type": "stream",
     "text": [
      "Enter a number:131\n",
      "The number is palindrome!\n"
     ]
    }
   ],
   "source": [
    "num=int(input(\"Enter a number:\"))\n",
    "temp=num\n",
    "rev=0\n",
    "while(num>0):\n",
    "    dig=num%10\n",
    "    rev=rev*10+dig\n",
    "    num=num//10\n",
    "if(temp==rev):\n",
    "    print(\"The number is palindrome!\")\n",
    "else:\n",
    "    print(\"Not a palindrome!\")"
   ]
  },
  {
   "cell_type": "code",
   "execution_count": 36,
   "id": "80b5b8ba",
   "metadata": {},
   "outputs": [
    {
     "name": "stdout",
     "output_type": "stream",
     "text": [
      "<function <lambda> at 0x000002285056D550>\n",
      "sum= 200\n"
     ]
    }
   ],
   "source": [
    "mul =lambda a,b:a*b\n",
    "print(mul)\n",
    "print(\"sum=\",mul(20,10))"
   ]
  },
  {
   "cell_type": "code",
   "execution_count": 45,
   "id": "8411b0dc",
   "metadata": {},
   "outputs": [
    {
     "name": "stdout",
     "output_type": "stream",
     "text": [
      "enter a number :131\n",
      "no. is palindrome!\n"
     ]
    }
   ],
   "source": [
    "num=int(input(\"enter a number :\"))\n",
    "temp=num\n",
    "rev=0\n",
    "while(num>0):\n",
    "    dig=num%10\n",
    "    rev=rev*10+dig\n",
    "    num=num//10\n",
    "if(temp==rev):\n",
    "    print(\"no. is palindrome!\")\n",
    "else:\n",
    "    print(\" not a palindrome!\")\n",
    "    "
   ]
  },
  {
   "cell_type": "code",
   "execution_count": 63,
   "id": "d931158e",
   "metadata": {},
   "outputs": [
    {
     "name": "stdout",
     "output_type": "stream",
     "text": [
      "55\n"
     ]
    }
   ],
   "source": [
    "def fibo(n):\n",
    "     if n==0:\n",
    "        return 0\n",
    "     elif n==1 or n==2:\n",
    "        return 1\n",
    "     else:\n",
    "        return fibo(n-1)+fibo(n-2)\n",
    "print(fibo(10))"
   ]
  },
  {
   "cell_type": "code",
   "execution_count": 68,
   "id": "990e1bec",
   "metadata": {},
   "outputs": [
    {
     "name": "stdout",
     "output_type": "stream",
     "text": [
      "enter a number :12586\n",
      "6\n",
      "68\n",
      "685\n",
      "6852\n",
      "68521\n"
     ]
    }
   ],
   "source": [
    "num =int(input(\"enter a number :\"))\n",
    "rev =0\n",
    "while(num>0):\n",
    "    dig = num%10\n",
    "    rev=rev*10+dig\n",
    "    num=num//10\n",
    "    print(rev)"
   ]
  },
  {
   "cell_type": "code",
   "execution_count": 82,
   "id": "0f8782f6",
   "metadata": {},
   "outputs": [
    {
     "name": "stdout",
     "output_type": "stream",
     "text": [
      "enter any number:5\n",
      "number is not armstrong 5\n"
     ]
    }
   ],
   "source": [
    "num =int(input(\"enter any number:\"))\n",
    "sum = 0\n",
    "order=len(str(num))\n",
    "temp=sum\n",
    "while(temp>0):\n",
    "    digit=temp%10\n",
    "    sum+=digit**order\n",
    "    temp=temp//10\n",
    "if(num==sum):\n",
    "        print(\"number is armstrong\",num)\n",
    "else:\n",
    "        print(\"number is not armstrong\",num)"
   ]
  },
  {
   "cell_type": "code",
   "execution_count": 87,
   "id": "7dc8353a",
   "metadata": {},
   "outputs": [
    {
     "name": "stdout",
     "output_type": "stream",
     "text": [
      "nomber is not prime 11\n",
      "nomber is not prime 11\n",
      "nomber is not prime 11\n",
      "nomber is not prime 11\n"
     ]
    }
   ],
   "source": [
    "num=11\n",
    "if num>1:\n",
    "    for i in range(2,int(num/2)+1):\n",
    "        if(num%i)==0:\n",
    "            print(\"number is prime\",num)\n",
    "        else:\n",
    "            print(\"nomber is not prime\",num)"
   ]
  },
  {
   "cell_type": "code",
   "execution_count": 144,
   "id": "e96a7c31",
   "metadata": {},
   "outputs": [
    {
     "ename": "IndentationError",
     "evalue": "unexpected indent (<ipython-input-144-bedad23cbe27>, line 9)",
     "output_type": "error",
     "traceback": [
      "\u001b[1;36m  File \u001b[1;32m\"<ipython-input-144-bedad23cbe27>\"\u001b[1;36m, line \u001b[1;32m9\u001b[0m\n\u001b[1;33m    else:\u001b[0m\n\u001b[1;37m    ^\u001b[0m\n\u001b[1;31mIndentationError\u001b[0m\u001b[1;31m:\u001b[0m unexpected indent\n"
     ]
    }
   ],
   "source": [
    "def PrimeChecker(n):  \n",
    "    if n > 1:  \n",
    "    \n",
    "      for i in range(2, int(n/2) + 1):  \n",
    "             \n",
    "        if (a % i) == 0:  \n",
    "            print(a, \"is not a prime number\")  \n",
    "break  \n",
    "      else:\n",
    "print(a, \"is a prime number\")  \n",
    "    \n",
    "    else:  \n",
    "print(a, \"is not a prime number\")   \n",
    "n = int(input(\"Enter an input number:\"))  \n",
    "\n",
    "PrimeChecker(n)  "
   ]
  },
  {
   "cell_type": "code",
   "execution_count": 143,
   "id": "bc14ec13",
   "metadata": {},
   "outputs": [
    {
     "name": "stdout",
     "output_type": "stream",
     "text": [
      "Enter an input number:11\n",
      "11 is a prime number\n"
     ]
    }
   ],
   "source": [
    " def PrimeChecker(n):  \n",
    "    if a > 1:  \n",
    "        # Iterating over the given number with for loop  \n",
    "        for j in range(2, int(a/2) + 1):  \n",
    "            # If the given number is divisible or not  \n",
    "            if (a % j) == 0:  \n",
    "                print(a, \"is not a prime number\")  \n",
    "                break  \n",
    "        # Else it is a prime number  \n",
    "        else:  \n",
    "            print(a, \"is a prime number\")  \n",
    "    # If the given number is 1  \n",
    "    else:  \n",
    "        print(a, \"is not a prime number\")  \n",
    "# Taking an input number from the user  \n",
    "a = int(input(\"Enter an input number:\"))  \n",
    "# Printing result  \n",
    "PrimeChecker(a)  "
   ]
  },
  {
   "cell_type": "code",
   "execution_count": 14,
   "id": "e4dfe466",
   "metadata": {},
   "outputs": [
    {
     "ename": "NameError",
     "evalue": "name 'fbonacci' is not defined",
     "output_type": "error",
     "traceback": [
      "\u001b[1;31m---------------------------------------------------------------------------\u001b[0m",
      "\u001b[1;31mNameError\u001b[0m                                 Traceback (most recent call last)",
      "\u001b[1;32m<ipython-input-14-3ebc70bc1953>\u001b[0m in \u001b[0;36m<module>\u001b[1;34m\u001b[0m\n\u001b[0;32m      6\u001b[0m     \u001b[1;32melse\u001b[0m\u001b[1;33m:\u001b[0m\u001b[1;33m\u001b[0m\u001b[1;33m\u001b[0m\u001b[0m\n\u001b[0;32m      7\u001b[0m          \u001b[1;32mreturn\u001b[0m \u001b[0mfbonacci\u001b[0m\u001b[1;33m(\u001b[0m\u001b[0mn\u001b[0m\u001b[1;33m-\u001b[0m\u001b[1;36m1\u001b[0m\u001b[1;33m)\u001b[0m\u001b[1;33m+\u001b[0m\u001b[0mfibonacci\u001b[0m\u001b[1;33m(\u001b[0m\u001b[0mn\u001b[0m\u001b[1;33m-\u001b[0m\u001b[1;36m2\u001b[0m\u001b[1;33m)\u001b[0m\u001b[1;33m\u001b[0m\u001b[1;33m\u001b[0m\u001b[0m\n\u001b[1;32m----> 8\u001b[1;33m \u001b[0mprint\u001b[0m\u001b[1;33m(\u001b[0m\u001b[0mfibonacci\u001b[0m\u001b[1;33m(\u001b[0m\u001b[1;36m9\u001b[0m\u001b[1;33m)\u001b[0m\u001b[1;33m)\u001b[0m\u001b[1;33m\u001b[0m\u001b[1;33m\u001b[0m\u001b[0m\n\u001b[0m\u001b[0;32m      9\u001b[0m \u001b[1;33m\u001b[0m\u001b[0m\n",
      "\u001b[1;32m<ipython-input-14-3ebc70bc1953>\u001b[0m in \u001b[0;36mfibonacci\u001b[1;34m(n)\u001b[0m\n\u001b[0;32m      5\u001b[0m         \u001b[1;32mreturn\u001b[0m \u001b[1;36m1\u001b[0m\u001b[1;33m\u001b[0m\u001b[1;33m\u001b[0m\u001b[0m\n\u001b[0;32m      6\u001b[0m     \u001b[1;32melse\u001b[0m\u001b[1;33m:\u001b[0m\u001b[1;33m\u001b[0m\u001b[1;33m\u001b[0m\u001b[0m\n\u001b[1;32m----> 7\u001b[1;33m          \u001b[1;32mreturn\u001b[0m \u001b[0mfbonacci\u001b[0m\u001b[1;33m(\u001b[0m\u001b[0mn\u001b[0m\u001b[1;33m-\u001b[0m\u001b[1;36m1\u001b[0m\u001b[1;33m)\u001b[0m\u001b[1;33m+\u001b[0m\u001b[0mfibonacci\u001b[0m\u001b[1;33m(\u001b[0m\u001b[0mn\u001b[0m\u001b[1;33m-\u001b[0m\u001b[1;36m2\u001b[0m\u001b[1;33m)\u001b[0m\u001b[1;33m\u001b[0m\u001b[1;33m\u001b[0m\u001b[0m\n\u001b[0m\u001b[0;32m      8\u001b[0m \u001b[0mprint\u001b[0m\u001b[1;33m(\u001b[0m\u001b[0mfibonacci\u001b[0m\u001b[1;33m(\u001b[0m\u001b[1;36m9\u001b[0m\u001b[1;33m)\u001b[0m\u001b[1;33m)\u001b[0m\u001b[1;33m\u001b[0m\u001b[1;33m\u001b[0m\u001b[0m\n\u001b[0;32m      9\u001b[0m \u001b[1;33m\u001b[0m\u001b[0m\n",
      "\u001b[1;31mNameError\u001b[0m: name 'fbonacci' is not defined"
     ]
    }
   ],
   "source": [
    "def fibonacci(n):\n",
    "    if n == 0:\n",
    "        return 0 \n",
    "    elif n==1 or n==2:\n",
    "        return 1\n",
    "    else: \n",
    "         return fbonacci(n-1)+fibonacci(n-2)\n",
    "print(fibonacci(9))\n",
    "\n"
   ]
  },
  {
   "cell_type": "code",
   "execution_count": null,
   "id": "6b3486d1",
   "metadata": {},
   "outputs": [],
   "source": []
  }
 ],
 "metadata": {
  "kernelspec": {
   "display_name": "Python 3",
   "language": "python",
   "name": "python3"
  },
  "language_info": {
   "codemirror_mode": {
    "name": "ipython",
    "version": 3
   },
   "file_extension": ".py",
   "mimetype": "text/x-python",
   "name": "python",
   "nbconvert_exporter": "python",
   "pygments_lexer": "ipython3",
   "version": "3.8.8"
  }
 },
 "nbformat": 4,
 "nbformat_minor": 5
}
