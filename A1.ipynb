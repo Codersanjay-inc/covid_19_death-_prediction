{
 "cells": [
  {
   "cell_type": "markdown",
   "metadata": {},
   "source": [
    "<h2 align=center> You can be a Python Developer !</h2>\n",
    "<h1 align=center>Complete the <code>Assignment 1</code></h1>"
   ]
  },
  {
   "cell_type": "markdown",
   "metadata": {},
   "source": [
    "**Write a Python Program to calculate the length of a string given**\n",
    "\n",
    "string  = 'Goods and Prices'"
   ]
  },
  {
   "cell_type": "code",
   "execution_count": null,
   "metadata": {},
   "outputs": [],
   "source": [
    "str = 'Goods and Prices'\n",
    "print(len(str))"
   ]
  },
  {
   "cell_type": "markdown",
   "metadata": {},
   "source": [
    "**How would you check the Python version you are using in your system ?. Write the code.**"
   ]
  },
  {
   "cell_type": "code",
   "execution_count": null,
   "metadata": {},
   "outputs": [],
   "source": [
    "import sys \n",
    "print(\"python version\")\n",
    "print(\"sys.version\")\n",
    "print(\"version info.\")\n",
    "print(sys.version_info)"
   ]
  },
  {
   "cell_type": "markdown",
   "metadata": {},
   "source": [
    "**Take the first name and last name from the user and get the last name printed first and the first in the last.**"
   ]
  },
  {
   "cell_type": "code",
   "execution_count": null,
   "metadata": {},
   "outputs": [],
   "source": [
    "first = input()\n",
    "sec = input()\n",
    "print(sec)\n",
    "print(first)"
   ]
  },
  {
   "cell_type": "markdown",
   "metadata": {},
   "source": [
    "**Lets Say num = 5 , Now calculate the the vaule of ( num  - cube + num - square + num ) using Operators**"
   ]
  },
  {
   "cell_type": "code",
   "execution_count": null,
   "metadata": {},
   "outputs": [],
   "source": []
  },
  {
   "cell_type": "markdown",
   "metadata": {},
   "source": [
    "**Take 3 integer inputs from the user and return the sum of all the numbers to the user.**"
   ]
  },
  {
   "cell_type": "code",
   "execution_count": null,
   "metadata": {},
   "outputs": [],
   "source": [
    "num1 = input()\n",
    "num2 = input()\n",
    "num3 = input()\n",
    "\n",
    "sum = int(num1) + int(num2) + int(num3)\n",
    "print('the sum of {0} {1} is {2} is {3}'.format(num1,num2,num3, sum))"
   ]
  },
  {
   "cell_type": "markdown",
   "metadata": {},
   "source": [
    "**Suppose x and y are the two variables having some values, and x-y = 5 and so does the x + y . Then Find the value of ( x-square  -   y-square ).**"
   ]
  },
  {
   "cell_type": "code",
   "execution_count": null,
   "metadata": {},
   "outputs": [],
   "source": []
  },
  {
   "cell_type": "markdown",
   "metadata": {},
   "source": [
    "**Convert the following types to Integer Datatype**\n",
    "\n",
    "**Numbers :** 45.3, -0, 2.85, 05.45, 23.6"
   ]
  },
  {
   "cell_type": "code",
   "execution_count": null,
   "metadata": {},
   "outputs": [],
   "source": [
    "Numbers = 45.3, -0, 2.85, 05.45, 23.6\n",
    "print(int(45.3),int(-0),int(2.85),int(05.45),int(23.6))"
   ]
  },
  {
   "cell_type": "markdown",
   "metadata": {},
   "source": [
    "**Which of the following is a variable and which of the following in a String ?. Discuss**"
   ]
  },
  {
   "cell_type": "code",
   "execution_count": null,
   "metadata": {},
   "outputs": [],
   "source": [
    "Strings : A Strings are surrounded by either single quotation marks and double quotation marks.\n",
    "    ex : 'Hello' , \"Hello\""
   ]
  },
  {
   "cell_type": "markdown",
   "metadata": {},
   "source": [
    "**Name the Data Types learnt till now in Python**"
   ]
  },
  {
   "cell_type": "code",
   "execution_count": null,
   "metadata": {},
   "outputs": [],
   "source": [
    "DATA TYPE : str , int , float , complex ,list ,range ,dict , set , bool"
   ]
  },
  {
   "cell_type": "markdown",
   "metadata": {},
   "source": [
    "**What does the variable contain after the following code runs?**"
   ]
  },
  {
   "cell_type": "raw",
   "metadata": {},
   "source": [
    "variable = 20\n",
    "variable + 1 "
   ]
  },
  {
   "cell_type": "code",
   "execution_count": null,
   "metadata": {},
   "outputs": [],
   "source": [
    "Ans : 21"
   ]
  },
  {
   "cell_type": "markdown",
   "metadata": {},
   "source": [
    "**What will the two expressions will evaluate**?"
   ]
  },
  {
   "cell_type": "raw",
   "metadata": {},
   "source": [
    "'expression_1' + 'expression_2'\n",
    "'expression_1' * 3"
   ]
  },
  {
   "cell_type": "code",
   "execution_count": null,
   "metadata": {},
   "outputs": [],
   "source": [
    "'expression_1expression_1expression_1'"
   ]
  },
  {
   "cell_type": "markdown",
   "metadata": {},
   "source": [
    "**Why x is a Valid variable and 100 is invalid ?**"
   ]
  },
  {
   "cell_type": "code",
   "execution_count": null,
   "metadata": {},
   "outputs": [],
   "source": [
    "1 : Variable name should start with letter(a-zA-Z) OR underscore (_)\n",
    "    \n",
    "    Valid : age , _age , Age.\n",
    "    invalid : 1age.\n",
    "        \n",
    "2 : In variable name, no special character allowed other than underscore(_)\n",
    "    \n",
    "    Valid : _age , age_ \n",
    "    invalid : age_* , +age.\n",
    "    \n",
    "Ans : so x is valid because it start with letter and 100 is invalid it start with number\n",
    "    \n"
   ]
  },
  {
   "cell_type": "markdown",
   "metadata": {},
   "source": [
    "**Why does the statement caiuse an error ?**"
   ]
  },
  {
   "cell_type": "raw",
   "metadata": {},
   "source": [
    "print('Artificial Intelligence was first coined in the year = ' + 1999)"
   ]
  },
  {
   "cell_type": "code",
   "execution_count": null,
   "metadata": {},
   "outputs": [],
   "source": [
    "This statemnet is error coming because '1999' is integer and 'Artificial Intelligence was first coined in the year' is string so data type is missmatch"
   ]
  },
  {
   "cell_type": "markdown",
   "metadata": {},
   "source": [
    "Notebook created by: <a href = \"https://www.linkedin.com/in/sumitkumarshukla/\">Sumit Kumar Shukla</a>"
   ]
  }
 ],
 "metadata": {
  "kernelspec": {
   "display_name": "Python 3",
   "language": "python",
   "name": "python3"
  },
  "language_info": {
   "codemirror_mode": {
    "name": "ipython",
    "version": 3
   },
   "file_extension": ".py",
   "mimetype": "text/x-python",
   "name": "python",
   "nbconvert_exporter": "python",
   "pygments_lexer": "ipython3",
   "version": "3.8.8"
  }
 },
 "nbformat": 4,
 "nbformat_minor": 4
}
