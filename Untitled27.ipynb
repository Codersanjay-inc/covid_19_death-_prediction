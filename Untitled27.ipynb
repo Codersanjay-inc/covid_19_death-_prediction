{
 "cells": [
  {
   "cell_type": "code",
   "execution_count": 5,
   "id": "3679590f",
   "metadata": {},
   "outputs": [
    {
     "ename": "IndentationError",
     "evalue": "unexpected indent (<ipython-input-5-93d8ef21e32d>, line 5)",
     "output_type": "error",
     "traceback": [
      "\u001b[1;36m  File \u001b[1;32m\"<ipython-input-5-93d8ef21e32d>\"\u001b[1;36m, line \u001b[1;32m5\u001b[0m\n\u001b[1;33m    for k in range (i , j):\u001b[0m\n\u001b[1;37m    ^\u001b[0m\n\u001b[1;31mIndentationError\u001b[0m\u001b[1;31m:\u001b[0m unexpected indent\n"
     ]
    }
   ],
   "source": [
    "def min_Partition(string, i, j):\n",
    "     if i>=j or palindrome(string[i : j +1]):\n",
    "        return 0\n",
    "ans = float ('inf')\n",
    "     for k in range (i , j):\n",
    "count = (1+min_partition(string , i  , k) + min_partition(string , k+1 , j))\n",
    "ans =min(ans, count)\n",
    "     return ans\n",
    "def main():\n",
    "string = \"abccd\"\n",
    "print(\"min cuts needed for palindrome Partitioning is \" , min_partition(string , 0 , len(string -1))\n",
    "     if __name__==\"__main__\":\n",
    "            main()"
   ]
  },
  {
   "cell_type": "code",
   "execution_count": null,
   "id": "83dfb709",
   "metadata": {},
   "outputs": [],
   "source": []
  },
  {
   "cell_type": "code",
   "execution_count": null,
   "id": "09cae4e0",
   "metadata": {},
   "outputs": [],
   "source": []
  }
 ],
 "metadata": {
  "kernelspec": {
   "display_name": "Python 3",
   "language": "python",
   "name": "python3"
  },
  "language_info": {
   "codemirror_mode": {
    "name": "ipython",
    "version": 3
   },
   "file_extension": ".py",
   "mimetype": "text/x-python",
   "name": "python",
   "nbconvert_exporter": "python",
   "pygments_lexer": "ipython3",
   "version": "3.8.8"
  }
 },
 "nbformat": 4,
 "nbformat_minor": 5
}
