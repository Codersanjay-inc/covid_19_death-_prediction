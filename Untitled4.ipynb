{
 "cells": [
  {
   "cell_type": "code",
   "execution_count": 1,
   "id": "5ea23b38",
   "metadata": {},
   "outputs": [
    {
     "name": "stdout",
     "output_type": "stream",
     "text": [
      "45\n",
      "45\n",
      "52\n",
      "the sum of 45 45 is 52 is 142\n"
     ]
    }
   ],
   "source": [
    "num1 = input()\n",
    "num2 = input()\n",
    "num3 = input()\n",
    "\n",
    "sum = int(num1) + int(num2) + int(num3)\n",
    "print('the sum of {0} {1} is {2} is {3}'.format(num1,num2,num3, sum))"
   ]
  },
  {
   "cell_type": "code",
   "execution_count": 8,
   "id": "b8903baa",
   "metadata": {},
   "outputs": [
    {
     "name": "stdout",
     "output_type": "stream",
     "text": [
      "45 0 2 5 23\n"
     ]
    }
   ],
   "source": [
    "Numbers = 45.3, -0, 2.85, 05.45, 23.6\n",
    "print(int(45.3),int(-0),int(2.85),int(05.45),int(23.6))"
   ]
  },
  {
   "cell_type": "code",
   "execution_count": 9,
   "id": "c805182f",
   "metadata": {},
   "outputs": [
    {
     "data": {
      "text/plain": [
       "21"
      ]
     },
     "execution_count": 9,
     "metadata": {},
     "output_type": "execute_result"
    }
   ],
   "source": [
    "variable = 20\n",
    "variable +1\n"
   ]
  },
  {
   "cell_type": "code",
   "execution_count": 10,
   "id": "65628f81",
   "metadata": {},
   "outputs": [
    {
     "data": {
      "text/plain": [
       "'expression_1expression_1expression_1'"
      ]
     },
     "execution_count": 10,
     "metadata": {},
     "output_type": "execute_result"
    }
   ],
   "source": [
    "'expression_1' + 'expression_2'\n",
    "'expression_1' * 3"
   ]
  },
  {
   "cell_type": "code",
   "execution_count": 11,
   "id": "a85fb330",
   "metadata": {},
   "outputs": [
    {
     "ename": "TypeError",
     "evalue": "can only concatenate str (not \"int\") to str",
     "output_type": "error",
     "traceback": [
      "\u001b[1;31m---------------------------------------------------------------------------\u001b[0m",
      "\u001b[1;31mTypeError\u001b[0m                                 Traceback (most recent call last)",
      "\u001b[1;32m<ipython-input-11-d1ba0477756f>\u001b[0m in \u001b[0;36m<module>\u001b[1;34m\u001b[0m\n\u001b[1;32m----> 1\u001b[1;33m \u001b[0mprint\u001b[0m\u001b[1;33m(\u001b[0m\u001b[1;34m'Artificial Intelligence was first coined in the year = '\u001b[0m \u001b[1;33m+\u001b[0m \u001b[1;36m1999\u001b[0m\u001b[1;33m)\u001b[0m\u001b[1;33m\u001b[0m\u001b[1;33m\u001b[0m\u001b[0m\n\u001b[0m",
      "\u001b[1;31mTypeError\u001b[0m: can only concatenate str (not \"int\") to str"
     ]
    }
   ],
   "source": [
    "print('Artificial Intelligence was first coined in the year = ' + 1999)"
   ]
  },
  {
   "cell_type": "code",
   "execution_count": null,
   "id": "85334ff8",
   "metadata": {},
   "outputs": [],
   "source": []
  }
 ],
 "metadata": {
  "kernelspec": {
   "display_name": "Python 3",
   "language": "python",
   "name": "python3"
  },
  "language_info": {
   "codemirror_mode": {
    "name": "ipython",
    "version": 3
   },
   "file_extension": ".py",
   "mimetype": "text/x-python",
   "name": "python",
   "nbconvert_exporter": "python",
   "pygments_lexer": "ipython3",
   "version": "3.8.8"
  }
 },
 "nbformat": 4,
 "nbformat_minor": 5
}
