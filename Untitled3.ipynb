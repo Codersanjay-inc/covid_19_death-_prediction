{
 "cells": [
  {
   "cell_type": "code",
   "execution_count": 6,
   "id": "5cfc892c",
   "metadata": {},
   "outputs": [
    {
     "name": "stdout",
     "output_type": "stream",
     "text": [
      "0\n"
     ]
    }
   ],
   "source": [
    "def polynomial(x):\n",
    "    return x**2 + 5*x + 4   #lambda function\n",
    "print(polynomial(-4))"
   ]
  },
  {
   "cell_type": "code",
   "execution_count": 11,
   "id": "55ff3573",
   "metadata": {},
   "outputs": [
    {
     "name": "stdout",
     "output_type": "stream",
     "text": [
      "[18, 29, 40, 51, 62]\n"
     ]
    }
   ],
   "source": [
    "def add_five(x):\n",
    "    return x+7\n",
    "nums = [11,22,33,44,55]\n",
    "result = list(map(add_five, nums))   # use of map func\n",
    "print(result)"
   ]
  },
  {
   "cell_type": "code",
   "execution_count": 13,
   "id": "bd5c4574",
   "metadata": {},
   "outputs": [
    {
     "name": "stdout",
     "output_type": "stream",
     "text": [
      "[18, 29, 40, 51, 62]\n"
     ]
    }
   ],
   "source": [
    "def add_five(x):\n",
    "    return x+7\n",
    "nums = [11,22,33,44,55]\n",
    "result = list(map(lambda x:x+7, nums))   # use of lambda func\n",
    "print(result)"
   ]
  },
  {
   "cell_type": "code",
   "execution_count": 14,
   "id": "bde6b94d",
   "metadata": {},
   "outputs": [
    {
     "name": "stdout",
     "output_type": "stream",
     "text": [
      "[22, 44]\n"
     ]
    }
   ],
   "source": [
    "nums = [11,22,33,44,55]\n",
    "res =  list(filter(lambda x: x%2 == 0, nums))\n",
    "print(res)"
   ]
  },
  {
   "cell_type": "code",
   "execution_count": 24,
   "id": "4d3b4417",
   "metadata": {},
   "outputs": [
    {
     "ename": "SyntaxError",
     "evalue": "invalid syntax (<ipython-input-24-7c944faeea5e>, line 1)",
     "output_type": "error",
     "traceback": [
      "\u001b[1;36m  File \u001b[1;32m\"<ipython-input-24-7c944faeea5e>\"\u001b[1;36m, line \u001b[1;32m1\u001b[0m\n\u001b[1;33m    def mul_three(x)\u001b[0m\n\u001b[1;37m                    ^\u001b[0m\n\u001b[1;31mSyntaxError\u001b[0m\u001b[1;31m:\u001b[0m invalid syntax\n"
     ]
    }
   ],
   "source": [
    "def mul_three(x)\n",
    "    return x**3\n",
    "nums = [3,9,12,15,18]\n",
    "res = list(map(lambda x:x**3, nums))\n",
    "           print(res)"
   ]
  },
  {
   "cell_type": "code",
   "execution_count": null,
   "id": "02217247",
   "metadata": {},
   "outputs": [],
   "source": [
    "nums = [1,2,5,8,3,0,7]\n",
    "res = list(filter(lambda x:x<5, nums))\n",
    "print(res)"
   ]
  },
  {
   "cell_type": "code",
   "execution_count": null,
   "id": "a7e4bb21",
   "metadata": {},
   "outputs": [],
   "source": [
    "def infinite_sevens():\n",
    "    while True:\n",
    "        yield 7\n",
    "for i in infinite_sevens():\n",
    "    print(i)"
   ]
  },
  {
   "cell_type": "code",
   "execution_count": null,
   "id": "9c988d24",
   "metadata": {},
   "outputs": [],
   "source": [
    "def get_primes():\n",
    "    num = 2\n",
    "    while True:\n",
    "        if is_prime(num):\n",
    "            yield num\n",
    "            num += 1\n",
    "            print(get_primes)"
   ]
  },
  {
   "cell_type": "code",
   "execution_count": null,
   "id": "6130d0e8",
   "metadata": {},
   "outputs": [],
   "source": [
    "def numbers(8)\n",
    " for i in range(8)\n",
    "    if i%2==0:\n",
    "        yield 5\n",
    "        print(list(numbers(8)))"
   ]
  },
  {
   "cell_type": "code",
   "execution_count": null,
   "id": "7df117a3",
   "metadata": {},
   "outputs": [],
   "source": [
    "def make_word():word = \"\"\n",
    "    for ch in \"spam\":\n",
    "        word += ch\n",
    "        yield word\n",
    "    print(list(make_word()))"
   ]
  },
  {
   "cell_type": "code",
   "execution_count": 2,
   "id": "1115801c",
   "metadata": {},
   "outputs": [
    {
     "name": "stdout",
     "output_type": "stream",
     "text": [
      "===========\n",
      "Hello World !\n",
      "===========\n"
     ]
    }
   ],
   "source": [
    "def decor(func):\n",
    "    def wrap():\n",
    "        print(\"===========\")\n",
    "        func()\n",
    "        print(\"===========\")\n",
    "    return wrap\n",
    "def print_text():\n",
    "    print(\"Hello World !\")\n",
    "decorated = decor(print_text)\n",
    "decorated()\n"
   ]
  },
  {
   "cell_type": "code",
   "execution_count": 15,
   "id": "7402e510",
   "metadata": {},
   "outputs": [
    {
     "ename": "IndentationError",
     "evalue": "expected an indented block (<ipython-input-15-d6e3e7dd4aa7>, line 2)",
     "output_type": "error",
     "traceback": [
      "\u001b[1;36m  File \u001b[1;32m\"<ipython-input-15-d6e3e7dd4aa7>\"\u001b[1;36m, line \u001b[1;32m2\u001b[0m\n\u001b[1;33m    def wrap():\u001b[0m\n\u001b[1;37m    ^\u001b[0m\n\u001b[1;31mIndentationError\u001b[0m\u001b[1;31m:\u001b[0m expected an indented block\n"
     ]
    }
   ],
   "source": [
    "def person_name(func):\n",
    "def wrap():\n",
    "        print(\"^^^^^^^^^^^^^^^^^^\")\n",
    "        func()\n",
    "        print(\"!!!!!!!!!!!!!!!!!!!\")\n",
    "        return wrap\n",
    "def print_text():\n",
    "    print(\"sanjay maddheshiya\")\n",
    "decorated = person_name(print_text)\n",
    "decorated()\n",
    "    "
   ]
  },
  {
   "cell_type": "code",
   "execution_count": 25,
   "id": "c7e3a2b4",
   "metadata": {},
   "outputs": [
    {
     "name": "stdout",
     "output_type": "stream",
     "text": [
      "120\n"
     ]
    }
   ],
   "source": [
    "def fact(x):\n",
    "     if x == 1:\n",
    "        return 1\n",
    "     else:\n",
    "        return x * fact(x-1)\n",
    "print(fact(5))"
   ]
  },
  {
   "cell_type": "code",
   "execution_count": 29,
   "id": "7378622d",
   "metadata": {},
   "outputs": [
    {
     "name": "stdout",
     "output_type": "stream",
     "text": [
      "False\n",
      "True\n"
     ]
    }
   ],
   "source": [
    "def is_even(x):\n",
    "    if x == 0:\n",
    "        return True\n",
    "    else:\n",
    "        return is_odd(x-1)\n",
    "def is_odd(x):\n",
    "    return not is_even(x)\n",
    "print(is_odd(12))\n",
    "print(is_even(4))"
   ]
  },
  {
   "cell_type": "code",
   "execution_count": 33,
   "id": "908adb56",
   "metadata": {},
   "outputs": [],
   "source": [
    "def fib(x):\n",
    "    if x == 0 or x == 1:\n",
    "        return 1\n",
    "    else:\n",
    "        return fib(x-1)+fib(x-2)\n",
    "    print(fib(4))"
   ]
  },
  {
   "cell_type": "code",
   "execution_count": 39,
   "id": "f4cb70dc",
   "metadata": {},
   "outputs": [
    {
     "ename": "NameError",
     "evalue": "name 'txt' is not defined",
     "output_type": "error",
     "traceback": [
      "\u001b[1;31m---------------------------------------------------------------------------\u001b[0m",
      "\u001b[1;31mNameError\u001b[0m                                 Traceback (most recent call last)",
      "\u001b[1;32m<ipython-input-39-3f9c122952be>\u001b[0m in \u001b[0;36m<module>\u001b[1;34m\u001b[0m\n\u001b[0;32m      6\u001b[0m         \u001b[1;32mreturn\u001b[0m \u001b[0mreverse\u001b[0m\u001b[1;33m(\u001b[0m\u001b[0mtxt\u001b[0m\u001b[1;33m[\u001b[0m\u001b[1;36m0\u001b[0m\u001b[1;33m:\u001b[0m\u001b[0mlen\u001b[0m\u001b[1;33m(\u001b[0m\u001b[0mtxt\u001b[0m\u001b[1;33m)\u001b[0m\u001b[1;33m-\u001b[0m\u001b[1;36m1\u001b[0m\u001b[1;33m]\u001b[0m\u001b[1;33m)\u001b[0m\u001b[1;33m\u001b[0m\u001b[1;33m\u001b[0m\u001b[0m\n\u001b[0;32m      7\u001b[0m         \u001b[0mtxt\u001b[0m \u001b[1;33m=\u001b[0m \u001b[0minput\u001b[0m\u001b[1;33m(\u001b[0m\u001b[1;33m)\u001b[0m\u001b[1;33m\u001b[0m\u001b[1;33m\u001b[0m\u001b[0m\n\u001b[1;32m----> 8\u001b[1;33m \u001b[0mprint\u001b[0m\u001b[1;33m(\u001b[0m\u001b[0mreverse\u001b[0m\u001b[1;33m(\u001b[0m\u001b[0mtxt\u001b[0m\u001b[1;33m)\u001b[0m\u001b[1;33m)\u001b[0m\u001b[1;33m\u001b[0m\u001b[1;33m\u001b[0m\u001b[0m\n\u001b[0m",
      "\u001b[1;31mNameError\u001b[0m: name 'txt' is not defined"
     ]
    }
   ],
   "source": [
    "def reverse(txt):\n",
    "    if txt == \"\":\n",
    "        return txt\n",
    "    else:\n",
    "        print(txt[len(txt)-1])\n",
    "        return reverse(txt[0:len(txt)-1])\n",
    "        txt = input()\n",
    "print(reverse(txt))"
   ]
  },
  {
   "cell_type": "code",
   "execution_count": 40,
   "id": "a9e02f24",
   "metadata": {},
   "outputs": [
    {
     "name": "stdout",
     "output_type": "stream",
     "text": [
      "16\n"
     ]
    }
   ],
   "source": [
    "str = 'Goods and Prices'\n",
    "print(len(str))"
   ]
  },
  {
   "cell_type": "code",
   "execution_count": 41,
   "id": "e8892b0a",
   "metadata": {},
   "outputs": [
    {
     "name": "stdout",
     "output_type": "stream",
     "text": [
      "python version\n",
      "sys.version\n",
      "version info.\n",
      "sys.version_info(major=3, minor=8, micro=8, releaselevel='final', serial=0)\n"
     ]
    }
   ],
   "source": [
    "import sys \n",
    "print(\"python version\")\n",
    "print(\"sys.version\")\n",
    "print(\"version info.\")\n",
    "print(sys.version_info)"
   ]
  },
  {
   "cell_type": "code",
   "execution_count": null,
   "id": "1450fbe2",
   "metadata": {},
   "outputs": [],
   "source": [
    "first = input()\n",
    "sec = input()\n",
    "print(sec)\n",
    "print(first)"
   ]
  },
  {
   "cell_type": "code",
   "execution_count": null,
   "id": "9119564d",
   "metadata": {},
   "outputs": [],
   "source": [
    "a = input()\n",
    "b = input()\n",
    "c = input()sum = int(a)+int(b)+int(c)\n",
    "print(sum)"
   ]
  },
  {
   "cell_type": "code",
   "execution_count": null,
   "id": "f8b90d12",
   "metadata": {},
   "outputs": [],
   "source": []
  },
  {
   "cell_type": "code",
   "execution_count": null,
   "id": "7b961392",
   "metadata": {},
   "outputs": [],
   "source": []
  }
 ],
 "metadata": {
  "kernelspec": {
   "display_name": "Python 3",
   "language": "python",
   "name": "python3"
  },
  "language_info": {
   "codemirror_mode": {
    "name": "ipython",
    "version": 3
   },
   "file_extension": ".py",
   "mimetype": "text/x-python",
   "name": "python",
   "nbconvert_exporter": "python",
   "pygments_lexer": "ipython3",
   "version": "3.8.8"
  }
 },
 "nbformat": 4,
 "nbformat_minor": 5
}
