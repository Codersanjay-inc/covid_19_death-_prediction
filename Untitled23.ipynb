{
 "cells": [
  {
   "cell_type": "code",
   "execution_count": 7,
   "id": "449867ba",
   "metadata": {},
   "outputs": [
    {
     "name": "stdout",
     "output_type": "stream",
     "text": [
      "sum of 2 and 3 is 5\n"
     ]
    }
   ],
   "source": [
    "num1 = 2\n",
    "num2 = 3\n",
    "sum = num1+num2\n",
    "print('sum of {0} and {1} is {2}'.format(num1,num2,sum))"
   ]
  },
  {
   "cell_type": "code",
   "execution_count": 9,
   "id": "0da4ccdc",
   "metadata": {},
   "outputs": [
    {
     "name": "stdout",
     "output_type": "stream",
     "text": [
      "enter the first number1.2\n",
      "enter the second number2.3\n",
      "sum is 3\n"
     ]
    }
   ],
   "source": [
    "num1 = input('enter the first number')\n",
    "num2 = input ('enter the second number')\n",
    "sum = float(num1)+float(num2)\n",
    "print('sum is',int(sum))"
   ]
  },
  {
   "cell_type": "code",
   "execution_count": 22,
   "id": "86826ed2",
   "metadata": {},
   "outputs": [
    {
     "name": "stdout",
     "output_type": "stream",
     "text": [
      "enter the number16\n",
      "square root is 4\n"
     ]
    }
   ],
   "source": [
    "#square root\n",
    "\n",
    "num1=int(input('enter the number'))\n",
    "sqt =num1**0.5\n",
    "print('square root is %d'%(sqt))"
   ]
  },
  {
   "cell_type": "code",
   "execution_count": 24,
   "id": "6f29fbd4",
   "metadata": {},
   "outputs": [
    {
     "name": "stdout",
     "output_type": "stream",
     "text": [
      "enter the number1+2j\n",
      "squar root is %d (1.272019649514069+0.7861513777574233j)\n"
     ]
    }
   ],
   "source": [
    "#real & complex number\n",
    "import cmath\n",
    "num = eval(input('enter the number'))\n",
    "num_sqrt = cmath.sqrt(num)\n",
    "print('squar root is %d',num_sqrt)"
   ]
  },
  {
   "cell_type": "code",
   "execution_count": 27,
   "id": "fe1f9d78",
   "metadata": {},
   "outputs": [
    {
     "name": "stdout",
     "output_type": "stream",
     "text": [
      "semi-perimeter of triangle is 10.5\n",
      "area of triangle is 11.399013115177997\n"
     ]
    }
   ],
   "source": [
    "#area of triangle\n",
    "a=10\n",
    "b=5\n",
    "c=6\n",
    "#calculate the semi-perimeter\n",
    "s =(a+b+c)/2\n",
    "print('semi-perimeter of triangle is',s)\n",
    "#area of triangle\n",
    "area = (s*(s-a)*(s-b)*(s-c)) ** 0.5\n",
    "print('area of triangle is',area)\n"
   ]
  },
  {
   "cell_type": "code",
   "execution_count": 38,
   "id": "e00d8937",
   "metadata": {},
   "outputs": [
    {
     "name": "stdout",
     "output_type": "stream",
     "text": [
      "copmlex number is -108\n",
      "solution are (-0.75-1.299038105676658j) and (-0.75+1.299038105676658j)\n"
     ]
    }
   ],
   "source": [
    "#complex number\n",
    "import cmath\n",
    "a=4\n",
    "b=6\n",
    "c=9\n",
    "lex =(b**2)-(4*a*c)\n",
    "print('copmlex number is',lex)\n",
    "sol1 = (-b-cmath.sqrt(lex))/(2*a)\n",
    "sol2 = (-b+cmath.sqrt(lex))/(2*a)\n",
    "print('solution are {0} and {1}'.format(sol1,sol2))"
   ]
  },
  {
   "cell_type": "code",
   "execution_count": 44,
   "id": "b036fd3d",
   "metadata": {},
   "outputs": [
    {
     "name": "stdout",
     "output_type": "stream",
     "text": [
      "the hcf is 100\n"
     ]
    }
   ],
   "source": [
    "#HCF....\n",
    "def hcf_sol(x,y):\n",
    " while(y):\n",
    "        x,y = y,x%y\n",
    " return x\n",
    "hcf = hcf_sol(300,400)\n",
    "print('the hcf is',hcf)\n",
    "    "
   ]
  },
  {
   "cell_type": "code",
   "execution_count": 68,
   "id": "3abbf8d1",
   "metadata": {},
   "outputs": [
    {
     "name": "stdout",
     "output_type": "stream",
     "text": [
      "you got\n",
      "2 of spade\n",
      "3 of clud\n",
      "3 of heart\n",
      "3 of spade\n",
      "1 of heart\n"
     ]
    }
   ],
   "source": [
    "#shuffle of deck card\n",
    "import itertools \n",
    "import random\n",
    "deck = list(itertools.product(range(1,4),['spade','heart','dimond','clud']))\n",
    "random.shuffle(deck)\n",
    "print('you got')\n",
    "for i in range(5):\n",
    "    print(deck[i][0], \"of\", deck[i][1])\n"
   ]
  },
  {
   "cell_type": "code",
   "execution_count": 73,
   "id": "48319a20",
   "metadata": {},
   "outputs": [
    {
     "name": "stdout",
     "output_type": "stream",
     "text": [
      "The ASCII value of 'z' is 122\n"
     ]
    }
   ],
   "source": [
    "c = 'z'\n",
    "print(\"The ASCII value of '\" + c + \"' is\", ord(c))"
   ]
  },
  {
   "cell_type": "code",
   "execution_count": 30,
   "id": "780106c1",
   "metadata": {},
   "outputs": [
    {
     "name": "stdout",
     "output_type": "stream",
     "text": [
      "enter the number :153\n",
      "153 is an Armstrong number\n",
      "153 is not an Armstrong number\n"
     ]
    }
   ],
   "source": [
    "#Armstrong\n",
    "num = int(input('enter the number :'))\n",
    "sum = 0\n",
    "temp = num\n",
    "while temp>0:\n",
    "    digit = temp % 10\n",
    "    sum += digit**3\n",
    "    temp //=10\n",
    "    if num == sum:\n",
    "        print(num,\"is an Armstrong number\")\n",
    "else:\n",
    "       print(num,\"is not an Armstrong number\")\n",
    "    \n"
   ]
  },
  {
   "cell_type": "code",
   "execution_count": 83,
   "id": "758dedf6",
   "metadata": {},
   "outputs": [
    {
     "name": "stdout",
     "output_type": "stream",
     "text": [
      "1635 is not an Armstrong number\n"
     ]
    }
   ],
   "source": [
    "num = 1635\n",
    "order = len(str(num))\n",
    "\n",
    "# initialize sum\n",
    "sum = 0\n",
    "\n",
    "# find the sum of the cube of each digit\n",
    "temp = num\n",
    "while temp > 0:\n",
    "   digit = temp % 10\n",
    "   sum += digit ** order\n",
    "   temp //= 10\n",
    "\n",
    "# display the result\n",
    "if num == sum:\n",
    "   print(num,\"is an Armstrong number\")\n",
    "else:\n",
    "   print(num,\"is not an Armstrong number\")"
   ]
  },
  {
   "cell_type": "code",
   "execution_count": 85,
   "id": "ade201fc",
   "metadata": {},
   "outputs": [
    {
     "name": "stdout",
     "output_type": "stream",
     "text": [
      "How many terms? 5\n",
      "Fibonacci sequence:\n",
      "0\n",
      "1\n",
      "1\n",
      "2\n",
      "3\n"
     ]
    }
   ],
   "source": [
    "nterms = int(input(\"How many terms? \"))\n",
    "\n",
    "# first two terms\n",
    "n1, n2 = 0, 1\n",
    "count = 0\n",
    "\n",
    "# check if the number of terms is valid\n",
    "if nterms <= 0:\n",
    "   print(\"Please enter a positive integer\")\n",
    "# if there is only one term, return n1\n",
    "elif nterms == 1:\n",
    "   print(\"Fibonacci sequence upto\",nterms,\":\")\n",
    "   print(n1)\n",
    "# generate fibonacci sequence\n",
    "else:\n",
    "   print(\"Fibonacci sequence:\")\n",
    "   while count < nterms:\n",
    "       print(n1)\n",
    "       nth = n1 + n2\n",
    "       # update values\n",
    "       n1 = n2\n",
    "       n2 = nth\n",
    "       count += 1"
   ]
  },
  {
   "cell_type": "code",
   "execution_count": 2,
   "id": "e7445057",
   "metadata": {},
   "outputs": [
    {
     "name": "stdout",
     "output_type": "stream",
     "text": [
      "2.75\n"
     ]
    }
   ],
   "source": [
    "a = 11\n",
    "b = 4\n",
    "print(a/b)"
   ]
  },
  {
   "cell_type": "code",
   "execution_count": 3,
   "id": "bdcb87d1",
   "metadata": {},
   "outputs": [
    {
     "name": "stdout",
     "output_type": "stream",
     "text": [
      "3\n"
     ]
    }
   ],
   "source": [
    "print(a%b)\n"
   ]
  },
  {
   "cell_type": "code",
   "execution_count": 4,
   "id": "a068bdf7",
   "metadata": {},
   "outputs": [
    {
     "name": "stdout",
     "output_type": "stream",
     "text": [
      "2\n"
     ]
    }
   ],
   "source": [
    "print(a//b)"
   ]
  },
  {
   "cell_type": "code",
   "execution_count": 5,
   "id": "25902f67",
   "metadata": {},
   "outputs": [
    {
     "name": "stdout",
     "output_type": "stream",
     "text": [
      "how old were you on your start date ?18\n",
      "how old are you today23\n",
      "cingratulation on5year of service!\n"
     ]
    }
   ],
   "source": [
    "start = input(\"how old were you on your start date ?\")\n",
    "end = input(\"how old are you today\")\n",
    "print(\"cingratulation on\" + str(int(end)-int(start))+ \"year of service!\")"
   ]
  },
  {
   "cell_type": "code",
   "execution_count": 1,
   "id": "97d9495e",
   "metadata": {},
   "outputs": [
    {
     "data": {
      "text/plain": [
       "float"
      ]
     },
     "execution_count": 1,
     "metadata": {},
     "output_type": "execute_result"
    }
   ],
   "source": [
    "type(+1E10)\n"
   ]
  },
  {
   "cell_type": "code",
   "execution_count": 2,
   "id": "862f7c01",
   "metadata": {},
   "outputs": [
    {
     "data": {
      "text/plain": [
       "float"
      ]
     },
     "execution_count": 2,
     "metadata": {},
     "output_type": "execute_result"
    }
   ],
   "source": [
    "type(5.0)"
   ]
  },
  {
   "cell_type": "code",
   "execution_count": 3,
   "id": "5c67d99c",
   "metadata": {},
   "outputs": [
    {
     "data": {
      "text/plain": [
       "str"
      ]
     },
     "execution_count": 3,
     "metadata": {},
     "output_type": "execute_result"
    }
   ],
   "source": [
    "type(\"True\")"
   ]
  },
  {
   "cell_type": "code",
   "execution_count": 4,
   "id": "ba643aad",
   "metadata": {},
   "outputs": [
    {
     "data": {
      "text/plain": [
       "bool"
      ]
     },
     "execution_count": 4,
     "metadata": {},
     "output_type": "execute_result"
    }
   ],
   "source": [
    "type(False)"
   ]
  },
  {
   "cell_type": "code",
   "execution_count": 7,
   "id": "2cfb6e60",
   "metadata": {},
   "outputs": [],
   "source": [
    "age =2"
   ]
  },
  {
   "cell_type": "code",
   "execution_count": 10,
   "id": "a5e14294",
   "metadata": {},
   "outputs": [
    {
     "data": {
      "text/plain": [
       "int"
      ]
     },
     "execution_count": 10,
     "metadata": {},
     "output_type": "execute_result"
    }
   ],
   "source": [
    "type(age)"
   ]
  },
  {
   "cell_type": "code",
   "execution_count": 4,
   "id": "b385702d",
   "metadata": {},
   "outputs": [
    {
     "name": "stdout",
     "output_type": "stream",
     "text": [
      "False\n",
      "False\n",
      "False\n",
      "False\n"
     ]
    }
   ],
   "source": [
    "numlist = [1,2,3,4,5]\n",
    "alphalist = [\"a\",\"b\",\"c\",\"d\",\"e\"]\n",
    "print(numlist is alphalist)\n",
    "print(numlist==alphalist)\n",
    "numlist==alphalist\n",
    "print(numlist is alphalist)\n",
    "print(numlist==alphalist)\n"
   ]
  },
  {
   "cell_type": "code",
   "execution_count": 3,
   "id": "9d87fdbb",
   "metadata": {},
   "outputs": [
    {
     "name": "stdout",
     "output_type": "stream",
     "text": [
      "enter any Number: 10\n",
      "The List of Numbers from 1 to 10\n",
      "1  2  3  4  5  6  7  8  9  10  "
     ]
    }
   ],
   "source": [
    "n = int(input(\"enter any Number: \"))\n",
    " \n",
    "print(\"The List of Numbers from 1\", \"to\", n) \n",
    " \n",
    "for i in range(1, n + 1):\n",
    "    print (i, end = '  ')\n"
   ]
  },
  {
   "cell_type": "code",
   "execution_count": 4,
   "id": "ef101dc0",
   "metadata": {},
   "outputs": [
    {
     "name": "stdout",
     "output_type": "stream",
     "text": [
      "The sum is 10\n"
     ]
    }
   ],
   "source": [
    "num = 4\n",
    "\n",
    "if num < 0:\n",
    "   print(\"Enter a number\")\n",
    "else:\n",
    "   sum = 0\n",
    "\n",
    "   while(num > 0):\n",
    "       sum += num\n",
    "       num -= 1\n",
    "   print(\"The sum is\", sum)\n"
   ]
  },
  {
   "cell_type": "code",
   "execution_count": 2,
   "id": "940e4010",
   "metadata": {},
   "outputs": [
    {
     "name": "stdout",
     "output_type": "stream",
     "text": [
      "Enter any even Number : 10\n",
      "1\n",
      "3\n",
      "5\n",
      "7\n",
      "9\n"
     ]
    }
   ],
   "source": [
    "num = int(input(\"Enter any even Number : \"))\n",
    " \n",
    "for number in range(1, num + 1):\n",
    "    if(number % 2 != 0):\n",
    "        print(\"{0}\".format(number))\n",
    "     "
   ]
  },
  {
   "cell_type": "code",
   "execution_count": 15,
   "id": "ac3529b3",
   "metadata": {},
   "outputs": [
    {
     "name": "stdout",
     "output_type": "stream",
     "text": [
      "Enter nth number : 2\n",
      "sum of squares is :  5\n"
     ]
    }
   ],
   "source": [
    "n = int(input(\"Enter nth number : \"))\n",
    "sum = 0\n",
    "while n>0:\n",
    "    sum = sum + (n*n)\n",
    "    n = n-1\n",
    "print(\"sum of squares is : \",sum)\n"
   ]
  },
  {
   "cell_type": "code",
   "execution_count": 29,
   "id": "a07a24c4",
   "metadata": {},
   "outputs": [
    {
     "name": "stdout",
     "output_type": "stream",
     "text": [
      "153 is an Armstrong number\n"
     ]
    }
   ],
   "source": [
    "num = 153\n",
    "\n",
    "order = len(str(num))\n",
    "\n",
    "\n",
    "sum = 0\n",
    "\n",
    "temp = num\n",
    "while temp > 0:\n",
    "   digit = temp % 10\n",
    "   sum += digit ** order\n",
    "   temp //= 10\n",
    "\n",
    "\n",
    "if num == sum:\n",
    "   print(num,\"is an Armstrong number\")\n",
    "else:\n",
    "   print(num,\"is not an Armstrong number\")"
   ]
  },
  {
   "cell_type": "code",
   "execution_count": 8,
   "id": "5e87f3e7",
   "metadata": {},
   "outputs": [
    {
     "name": "stdout",
     "output_type": "stream",
     "text": [
      "how many terms10\n",
      "fibonacci sequence:\n"
     ]
    }
   ],
   "source": [
    "#fibonacci\n",
    "n = int(input(\"how many terms\"))\n",
    "n1,n2 = 0, 1\n",
    "count = 0\n",
    "if n <= 0:\n",
    "    print(\"enter positive no.\")\n",
    "elif n == 1:\n",
    "    print(\"fibonacci sequence upto\",n,\":\")\n",
    "    print(n1)\n",
    "else:\n",
    "    print(\"fibonacci sequence:\")\n",
    "    while count <0:\n",
    "        print(n1)\n",
    "        n = n1+n2\n",
    "        n1 = n2\n",
    "        n2 = n\n",
    "        count += 1\n",
    "        "
   ]
  },
  {
   "cell_type": "code",
   "execution_count": 6,
   "id": "87a13f7a",
   "metadata": {},
   "outputs": [
    {
     "name": "stdout",
     "output_type": "stream",
     "text": [
      "How many terms? 10\n",
      "Fibonacci sequence:\n",
      "0\n",
      "1\n",
      "1\n",
      "2\n",
      "3\n",
      "5\n",
      "8\n",
      "13\n",
      "21\n",
      "34\n"
     ]
    }
   ],
   "source": [
    "nterms = int(input(\"How many terms? \"))\n",
    "\n",
    "# first two terms\n",
    "n1, n2 = 0, 1\n",
    "count = 0\n",
    "\n",
    "# check if the number of terms is valid\n",
    "if nterms <= 0:\n",
    "   print(\"Please enter a positive integer\")\n",
    "# if there is only one term, return n1\n",
    "elif nterms == 1:\n",
    "   print(\"Fibonacci sequence upto\",nterms,\":\")\n",
    "   print(n1)\n",
    "# generate fibonacci sequence\n",
    "else:\n",
    "   print(\"Fibonacci sequence:\")\n",
    "   while count < nterms:\n",
    "       print(n1)\n",
    "       nth = n1 + n2\n",
    "       # update values\n",
    "       n1 = n2\n",
    "       n2 = nth\n",
    "       count += 1"
   ]
  },
  {
   "cell_type": "code",
   "execution_count": 21,
   "id": "7ad01b5d",
   "metadata": {},
   "outputs": [
    {
     "name": "stdout",
     "output_type": "stream",
     "text": [
      "how many terms5\n",
      "fibonacci sequence:\n",
      "0\n"
     ]
    }
   ],
   "source": [
    "n = int(input(\"how many terms\"))\n",
    "n1,n2 = 0, 1\n",
    "count = 0\n",
    "if n <= 0:\n",
    "    print(\"enter positive no.\")\n",
    "elif n == 1:\n",
    "    print(\"fibonacci sequence upto\",n,\":\")\n",
    "    print(n1)\n",
    "else:\n",
    "    print(\"fibonacci sequence:\")\n",
    "    while count < n:\n",
    "        print(n1)\n",
    "        n = n1+n2\n",
    "        n1 = n2\n",
    "        n2 = n\n",
    "        count += 1\n",
    "        "
   ]
  },
  {
   "cell_type": "code",
   "execution_count": 19,
   "id": "9d7f4ca7",
   "metadata": {},
   "outputs": [
    {
     "name": "stdout",
     "output_type": "stream",
     "text": [
      "how many terms5\n",
      "0\n"
     ]
    }
   ],
   "source": [
    "nterm = int(input(\"how many terms\"))\n",
    "n1 , n2 = 0 , 1\n",
    "count = 0\n",
    "if nterm<=0:\n",
    "    print(\"enter positive integer\")\n",
    "elif n == 1:\n",
    "    \n",
    "    print(n1)\n",
    "    \n",
    "else:\n",
    "    print(\"fibonacci series :\")\n",
    "    while count < nterm:\n",
    "        print(n1)\n",
    "        nterm = n1 + n2\n",
    "        n1 = n2 \n",
    "        n2 = nterm\n",
    "        count +=1"
   ]
  },
  {
   "cell_type": "code",
   "execution_count": 36,
   "id": "0da5ff33",
   "metadata": {},
   "outputs": [
    {
     "name": "stdout",
     "output_type": "stream",
     "text": [
      "34\n"
     ]
    }
   ],
   "source": [
    "def fibonacci(n):\n",
    "  if n == 0:\n",
    "        return 0\n",
    "  elif n ==1 or n == 2:\n",
    "        return 1\n",
    "  else:\n",
    "       return fibonacci(n-1)+fibonacci(n-2)\n",
    "print(fibonacci(9))"
   ]
  },
  {
   "cell_type": "code",
   "execution_count": 74,
   "id": "b33ed137",
   "metadata": {},
   "outputs": [
    {
     "name": "stdout",
     "output_type": "stream",
     "text": [
      "34\n"
     ]
    }
   ],
   "source": [
    "def fibonacci(n):\n",
    "  if n == 0:\n",
    "        return 0\n",
    "  elif n ==1 or n == 2:\n",
    "        return 1\n",
    "  else:\n",
    "       return fibonacci(n-1)+fibonacci(n-2)\n",
    "print(fibonacci(9))\n"
   ]
  },
  {
   "cell_type": "code",
   "execution_count": 6,
   "id": "d9f6dec5",
   "metadata": {},
   "outputs": [
    {
     "ename": "IndentationError",
     "evalue": "unindent does not match any outer indentation level (<tokenize>, line 13)",
     "output_type": "error",
     "traceback": [
      "\u001b[1;36m  File \u001b[1;32m\"<tokenize>\"\u001b[1;36m, line \u001b[1;32m13\u001b[0m\n\u001b[1;33m    break;\u001b[0m\n\u001b[1;37m    ^\u001b[0m\n\u001b[1;31mIndentationError\u001b[0m\u001b[1;31m:\u001b[0m unindent does not match any outer indentation level\n"
     ]
    }
   ],
   "source": [
    "#prime \n",
    "num = 11 \n",
    "\n",
    "if num > 1:\n",
    "    for i in range(2, int(num/2)+1):\n",
    "        \n",
    "        if(num % i) == 0:\n",
    "            print(num,\"no. is not prime\")\n",
    "            break;\n",
    "        \n",
    "else:\n",
    "            print(num,\"no is prime\")\n",
    "    \n",
    "            \n",
    "        "
   ]
  },
  {
   "cell_type": "code",
   "execution_count": 15,
   "id": "be6c7374",
   "metadata": {},
   "outputs": [
    {
     "name": "stdout",
     "output_type": "stream",
     "text": [
      "1\n",
      "12\n",
      "123\n",
      "1234\n",
      "12345\n"
     ]
    }
   ],
   "source": [
    "n = 54321\n",
    "rev = 0 \n",
    "while(n > 0):\n",
    "    a = n % 10\n",
    "    rev = rev *10 + a\n",
    "    n = n // 10\n",
    "    print(rev)"
   ]
  },
  {
   "cell_type": "code",
   "execution_count": 33,
   "id": "df6de6ae",
   "metadata": {},
   "outputs": [
    {
     "ename": "SyntaxError",
     "evalue": "invalid syntax (<ipython-input-33-f342c0e6d73f>, line 10)",
     "output_type": "error",
     "traceback": [
      "\u001b[1;36m  File \u001b[1;32m\"<ipython-input-33-f342c0e6d73f>\"\u001b[1;36m, line \u001b[1;32m10\u001b[0m\n\u001b[1;33m    print(\"armstong\",%num)\u001b[0m\n\u001b[1;37m                     ^\u001b[0m\n\u001b[1;31mSyntaxError\u001b[0m\u001b[1;31m:\u001b[0m invalid syntax\n"
     ]
    }
   ],
   "source": [
    "num = int(input(\"enter number\"))\n",
    "sum = 0\n",
    "order = len(str(num))\n",
    "temp = num\n",
    "while temp>0:\n",
    "    digit = temp %10\n",
    "    sum +=digit**order\n",
    "    temp //= 10\n",
    "    if num == sum:\n",
    "        print(\"armstong\",num)\n",
    "        \n",
    "    else:\n",
    "        print(\"not a armstrong\",num)"
   ]
  },
  {
   "cell_type": "code",
   "execution_count": 32,
   "id": "d20e99aa",
   "metadata": {},
   "outputs": [
    {
     "name": "stdout",
     "output_type": "stream",
     "text": [
      "1635 is not an Armstrong number\n"
     ]
    }
   ],
   "source": [
    "num = 1635\n",
    "order = len(str(num))\n",
    "\n",
    "# initialize sum\n",
    "sum = 0\n",
    "\n",
    "# find the sum of the cube of each digit\n",
    "temp = num\n",
    "while temp > 0:\n",
    "   digit = temp % 10\n",
    "   sum += digit ** order\n",
    "   temp //= 10\n",
    "\n",
    "# display the result\n",
    "if num == sum:\n",
    "   print(num,\"is an Armstrong number\")\n",
    "else:\n",
    "   print(num,\"is not an Armstrong number\")\n"
   ]
  },
  {
   "cell_type": "code",
   "execution_count": null,
   "id": "79bda463",
   "metadata": {},
   "outputs": [],
   "source": [
    "def "
   ]
  }
 ],
 "metadata": {
  "kernelspec": {
   "display_name": "Python 3",
   "language": "python",
   "name": "python3"
  },
  "language_info": {
   "codemirror_mode": {
    "name": "ipython",
    "version": 3
   },
   "file_extension": ".py",
   "mimetype": "text/x-python",
   "name": "python",
   "nbconvert_exporter": "python",
   "pygments_lexer": "ipython3",
   "version": "3.8.8"
  }
 },
 "nbformat": 4,
 "nbformat_minor": 5
}
