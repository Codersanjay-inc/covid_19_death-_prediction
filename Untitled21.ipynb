{
 "cells": [
  {
   "cell_type": "code",
   "execution_count": 4,
   "id": "bd81ec02",
   "metadata": {},
   "outputs": [],
   "source": [
    "import numpy as np\n",
    "x = np.linspace(-20,20,100)\n",
    "z = (1/(1+np.exp(-x)))\n",
    "\n"
   ]
  },
  {
   "cell_type": "code",
   "execution_count": 5,
   "id": "baaee03a",
   "metadata": {},
   "outputs": [
    {
     "data": {
      "text/plain": [
       "array([-20.        , -19.5959596 , -19.19191919, -18.78787879,\n",
       "       -18.38383838])"
      ]
     },
     "execution_count": 5,
     "metadata": {},
     "output_type": "execute_result"
    }
   ],
   "source": [
    "x[:5]"
   ]
  },
  {
   "cell_type": "code",
   "execution_count": 6,
   "id": "e6ead88b",
   "metadata": {},
   "outputs": [],
   "source": [
    "import matplotlib.pyplot as plt"
   ]
  },
  {
   "cell_type": "code",
   "execution_count": 7,
   "id": "f91299a2",
   "metadata": {},
   "outputs": [
    {
     "data": {
      "text/plain": [
       "[<matplotlib.lines.Line2D at 0x1c1094ddf40>]"
      ]
     },
     "execution_count": 7,
     "metadata": {},
     "output_type": "execute_result"
    },
    {
     "data": {
      "image/png": "[encoded data removed]",
      "text/plain": [
       "<Figure size 432x288 with 1 Axes>"
      ]
     },
     "metadata": {
      "needs_background": "light"
     },
     "output_type": "display_data"
    }
   ],
   "source": [
    "plt.plot(x,z)"
   ]
  },
  {
   "cell_type": "code",
   "execution_count": 8,
   "id": "cfb39b8f",
   "metadata": {},
   "outputs": [],
   "source": [
    "from sympy import *\n",
    "from sympy.abc import *\n"
   ]
  },
  {
   "cell_type": "code",
   "execution_count": 10,
   "id": "8370f786",
   "metadata": {},
   "outputs": [],
   "source": [
    "ex = 1/(1+exp(-x))"
   ]
  },
  {
   "cell_type": "code",
   "execution_count": 11,
   "id": "bda88b2a",
   "metadata": {},
   "outputs": [
    {
     "data": {
      "text/latex": [
       "$\\displaystyle \\frac{1}{1 + e^{- x}}$"
      ],
      "text/plain": [
       "1/(1 + exp(-x))"
      ]
     },
     "execution_count": 11,
     "metadata": {},
     "output_type": "execute_result"
    }
   ],
   "source": [
    "ex\n"
   ]
  },
  {
   "cell_type": "code",
   "execution_count": 14,
   "id": "b12274fa",
   "metadata": {},
   "outputs": [],
   "source": [
    "f = Function('f')(x)\n"
   ]
  },
  {
   "cell_type": "code",
   "execution_count": 17,
   "id": "10e2793b",
   "metadata": {},
   "outputs": [],
   "source": [
    "s = Function(sigma)(x)\n"
   ]
  },
  {
   "cell_type": "code",
   "execution_count": 22,
   "id": "d3f86ca4",
   "metadata": {},
   "outputs": [
    {
     "data": {
      "text/latex": [
       "$\\displaystyle f{\\left(x \\right)} = \\sigma{\\left(x \\right)} = \\frac{1}{1 + e^{- x}}$"
      ],
      "text/plain": [
       "Eq(Eq(f(x), sigma(x)), 1/(1 + exp(-x)))"
      ]
     },
     "execution_count": 22,
     "metadata": {},
     "output_type": "execute_result"
    }
   ],
   "source": [
    "Eq(Eq(f,s),ex,evaluate = False)"
   ]
  },
  {
   "cell_type": "code",
   "execution_count": null,
   "id": "10bf3197",
   "metadata": {},
   "outputs": [],
   "source": []
  }
 ],
 "metadata": {
  "kernelspec": {
   "display_name": "Python 3",
   "language": "python",
   "name": "python3"
  },
  "language_info": {
   "codemirror_mode": {
    "name": "ipython",
    "version": 3
   },
   "file_extension": ".py",
   "mimetype": "text/x-python",
   "name": "python",
   "nbconvert_exporter": "python",
   "pygments_lexer": "ipython3",
   "version": "3.8.8"
  }
 },
 "nbformat": 4,
 "nbformat_minor": 5
}
