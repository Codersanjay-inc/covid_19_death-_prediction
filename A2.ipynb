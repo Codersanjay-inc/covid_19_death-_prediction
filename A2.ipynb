{
 "cells": [
  {
   "cell_type": "markdown",
   "metadata": {
    "colab_type": "text",
    "id": "6TEJNC5EP1pn"
   },
   "source": [
    "<h2 align=center> You can be a Python Developer !</h2>\n",
    "<h1 align=center>Complete the <code>Assignment 2</code></h1>"
   ]
  },
  {
   "cell_type": "code",
   "execution_count": null,
   "metadata": {
    "colab": {},
    "colab_type": "code",
    "id": "JyFYtu3tOBMm"
   },
   "outputs": [],
   "source": [
    "What are the two values of the Boolean data types? How you write them?"
   ]
  },
  {
   "cell_type": "code",
   "execution_count": null,
   "metadata": {
    "colab": {},
    "colab_type": "code",
    "id": "yEQv0QP3ODK4"
   },
   "outputs": [],
   "source": [
    "There are two VALUES of boolean data type :\n",
    "    1.TRUE\n",
    "    2.FALSE"
   ]
  },
  {
   "cell_type": "code",
   "execution_count": null,
   "metadata": {
    "colab": {},
    "colab_type": "code",
    "id": "5G8MlzcNODZV"
   },
   "outputs": [],
   "source": [
    "What are the three Boolean Operators?"
   ]
  },
  {
   "cell_type": "code",
   "execution_count": null,
   "metadata": {
    "colab": {},
    "colab_type": "code",
    "id": "lPDPktBQOTSB"
   },
   "outputs": [],
   "source": [
    "1.AND\n",
    "2.OR\n",
    "3.NOT"
   ]
  },
  {
   "cell_type": "code",
   "execution_count": null,
   "metadata": {
    "colab": {},
    "colab_type": "code",
    "id": "tAtzCzmVOWQ3"
   },
   "outputs": [],
   "source": [
    "Write out the truth tables of each Boolean Operator (that is, every possible combination of Boolean values for the operator and what they evaluate to)"
   ]
  },
  {
   "cell_type": "code",
   "execution_count": null,
   "metadata": {
    "colab": {},
    "colab_type": "code",
    "id": "-yHVYkL1Ocv6"
   },
   "outputs": [],
   "source": []
  },
  {
   "cell_type": "code",
   "execution_count": null,
   "metadata": {
    "colab": {},
    "colab_type": "code",
    "id": "OGPcYOMNOc__"
   },
   "outputs": [],
   "source": [
    "What to the following expressions evaluate to?\n",
    "• (5>4) and (3==5)\n",
    "• not (5>4) \n",
    "• (True and True) and (True == False)\n",
    "• not ((5>4) or (3==5))\n",
    "• (5>4) or (3==5)\n",
    "• (not False) or (not True)"
   ]
  },
  {
   "cell_type": "code",
   "execution_count": null,
   "metadata": {
    "colab": {},
    "colab_type": "code",
    "id": "xY01KQ-bOgTW"
   },
   "outputs": [],
   "source": []
  },
  {
   "cell_type": "code",
   "execution_count": null,
   "metadata": {
    "colab": {},
    "colab_type": "code",
    "id": "-oPVWBblOglp"
   },
   "outputs": [],
   "source": [
    "What are the Six Comparison Operators?"
   ]
  },
  {
   "cell_type": "code",
   "execution_count": null,
   "metadata": {
    "colab": {},
    "colab_type": "code",
    "id": "b8A70jXtOjjL"
   },
   "outputs": [],
   "source": []
  },
  {
   "cell_type": "code",
   "execution_count": null,
   "metadata": {
    "colab": {},
    "colab_type": "code",
    "id": "P5tr_dSrOkW2"
   },
   "outputs": [],
   "source": [
    "What is the difference between equal to operator and assignment operator?"
   ]
  },
  {
   "cell_type": "code",
   "execution_count": null,
   "metadata": {
    "colab": {},
    "colab_type": "code",
    "id": "k7EiAgjpOqn4"
   },
   "outputs": [],
   "source": []
  },
  {
   "cell_type": "code",
   "execution_count": null,
   "metadata": {
    "colab": {},
    "colab_type": "code",
    "id": "-wOXBdOYOqsT"
   },
   "outputs": [],
   "source": [
    "Print the calendar for the year 2020 and 2021."
   ]
  },
  {
   "cell_type": "code",
   "execution_count": null,
   "metadata": {
    "colab": {},
    "colab_type": "code",
    "id": "z0Fsx-CeOuNY"
   },
   "outputs": [],
   "source": []
  },
  {
   "cell_type": "code",
   "execution_count": null,
   "metadata": {
    "colab": {},
    "colab_type": "code",
    "id": "BO5IEKNUOvTH"
   },
   "outputs": [],
   "source": [
    "If the Formula for computing the sum of n natural numbers is: [n(n+1) / 2], then calculate the value of sum of first 10 numbers with the use of formula in python."
   ]
  },
  {
   "cell_type": "code",
   "execution_count": null,
   "metadata": {
    "colab": {},
    "colab_type": "code",
    "id": "w1CTWs0_OzG5"
   },
   "outputs": [],
   "source": []
  },
  {
   "cell_type": "code",
   "execution_count": null,
   "metadata": {
    "colab": {},
    "colab_type": "code",
    "id": "dm_2age6OzUq"
   },
   "outputs": [],
   "source": [
    "Check whether\n",
    "• Task == task\n",
    "• ‘clone’ == clone • 3.0 == 2**3 – 3*2 • 125 == 5*5*5"
   ]
  },
  {
   "cell_type": "code",
   "execution_count": null,
   "metadata": {
    "colab": {},
    "colab_type": "code",
    "id": "aOP5YGfIO309"
   },
   "outputs": [],
   "source": []
  },
  {
   "cell_type": "code",
   "execution_count": null,
   "metadata": {
    "colab": {},
    "colab_type": "code",
    "id": "Z1DRqegdO4DN"
   },
   "outputs": [],
   "source": [
    "Write a Python code to print current date and time."
   ]
  },
  {
   "cell_type": "code",
   "execution_count": null,
   "metadata": {
    "colab": {},
    "colab_type": "code",
    "id": "gFOWYcGPO68n"
   },
   "outputs": [],
   "source": []
  },
  {
   "cell_type": "code",
   "execution_count": null,
   "metadata": {
    "colab": {},
    "colab_type": "code",
    "id": "yy1JfgtCPAoQ"
   },
   "outputs": [],
   "source": [
    "Calculate the radius of the circle if the user inputs the area."
   ]
  },
  {
   "cell_type": "code",
   "execution_count": null,
   "metadata": {
    "colab": {},
    "colab_type": "code",
    "id": "sa8eYnPzPDw-"
   },
   "outputs": [],
   "source": []
  },
  {
   "cell_type": "code",
   "execution_count": null,
   "metadata": {
    "colab": {},
    "colab_type": "code",
    "id": "irOPeQhMPD9r"
   },
   "outputs": [],
   "source": [
    "Write a python program to accept a filename from the user and print the extension of that."
   ]
  },
  {
   "cell_type": "code",
   "execution_count": null,
   "metadata": {
    "colab": {},
    "colab_type": "code",
    "id": "7hHyBYrmPHKM"
   },
   "outputs": [],
   "source": []
  },
  {
   "cell_type": "code",
   "execution_count": null,
   "metadata": {
    "colab": {},
    "colab_type": "code",
    "id": "OpAinDuZPHO1"
   },
   "outputs": [],
   "source": [
    "If x =100\n",
    "I_love_python = 1\n",
    "Its_Amazing = 2\n",
    "Print(I_love_Python + x + Its_Amazing)"
   ]
  },
  {
   "cell_type": "code",
   "execution_count": null,
   "metadata": {
    "colab": {},
    "colab_type": "code",
    "id": "x1ndWDo_PKPs"
   },
   "outputs": [],
   "source": []
  },
  {
   "cell_type": "code",
   "execution_count": null,
   "metadata": {
    "colab": {},
    "colab_type": "code",
    "id": "NM3rusUIPKer"
   },
   "outputs": [],
   "source": [
    "Accept two string from a user and compare whether the strings are equal or not. Boolean Operators, Comparison Operators."
   ]
  }
 ],
 "metadata": {
  "colab": {
   "name": "A2.ipynb",
   "provenance": []
  },
  "kernelspec": {
   "display_name": "Python 3",
   "language": "python",
   "name": "python3"
  },
  "language_info": {
   "codemirror_mode": {
    "name": "ipython",
    "version": 3
   },
   "file_extension": ".py",
   "mimetype": "text/x-python",
   "name": "python",
   "nbconvert_exporter": "python",
   "pygments_lexer": "ipython3",
   "version": "3.8.8"
  }
 },
 "nbformat": 4,
 "nbformat_minor": 1
}
